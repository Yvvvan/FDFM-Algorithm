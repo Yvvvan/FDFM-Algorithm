{
 "cells": [
  {
   "cell_type": "markdown",
   "id": "e5d66711",
   "metadata": {},
   "source": [
    "## Algorithm 1: Frequency Domain Feature Matching Algorithm"
   ]
  },
  {
   "cell_type": "code",
   "execution_count": 1,
   "id": "d92e5860",
   "metadata": {},
   "outputs": [],
   "source": [
    "import numpy as np\n",
    "import collections"
   ]
  },
  {
   "cell_type": "markdown",
   "id": "b87b6b97",
   "metadata": {},
   "source": [
    "## Input"
   ]
  },
  {
   "cell_type": "code",
   "execution_count": 2,
   "id": "f64df031",
   "metadata": {},
   "outputs": [],
   "source": [
    "# 1 Setting Constant\n",
    "\n",
    "# number of selected feature freq for each sample\n",
    "FN = 10\n",
    "\n",
    "# number of categories\n",
    "m = 2\n",
    "\n",
    "# number of selected feature freq for each categories\n",
    "n = 10  "
   ]
  },
  {
   "cell_type": "code",
   "execution_count": 3,
   "id": "b908af76",
   "metadata": {},
   "outputs": [],
   "source": [
    "# 2 Train-Test-Dataset:\n",
    "\n",
    "# using to initial dataset\n",
    "num_data = 100\n",
    "num_point = 60\n",
    "\n",
    "# initial data: random \n",
    "from numpy import random\n",
    "from sklearn.model_selection import train_test_split\n",
    "\n",
    "x = random.rand(num_data,num_point)\n",
    "y = np.floor(m*random.rand(num_data))\n",
    "X_train, X_test, y_train, y_test = train_test_split(x, y, test_size=0.4, random_state=0)"
   ]
  },
  {
   "cell_type": "code",
   "execution_count": 4,
   "id": "23293ac8",
   "metadata": {},
   "outputs": [],
   "source": [
    "#3 Funktions\n",
    "\n",
    "# Fast Foutier transform\n",
    "## np.fft.fft()\n",
    "\n",
    "# returns the index of the array sorted in ascending order\n",
    "## np.argsort()\n",
    "\n",
    "# reverses the array and returns the first FN(defined constant) elements\n",
    "## mylist[::-1][:FN]\n",
    "\n",
    "# count the occurrence times\n",
    "## collections.Counter()\n",
    "\n",
    "# Scoring function with scoring rules 1,2,3: \n",
    "def SR(A,B):\n",
    "    \"\"\"\n",
    "    :param A: numpy array, 1 x FN, feature frequencies\n",
    "    :param B: numpy array, m x n,  feature matrix\n",
    "    :return:  score\n",
    "    \"\"\"\n",
    "    score = []\n",
    "    for h in range(len(B)):\n",
    "        scoreh = len(set(A[:10]).intersection(set(B[h])))\n",
    "        scoreh += len(set(np.concatenate((A[:6],A[:6]+1,A[:6]-1))).intersection(set(B[h])))\n",
    "        scoreh += 4*len(set(A[:3]).intersection(set(B[h][:3])))\n",
    "        score.append(scoreh)\n",
    "    return np.array(score)"
   ]
  },
  {
   "cell_type": "markdown",
   "id": "208bb981",
   "metadata": {},
   "source": [
    "## Train Stage: Obtain feature matrix with size m x n"
   ]
  },
  {
   "cell_type": "code",
   "execution_count": 5,
   "id": "1887f8f7",
   "metadata": {},
   "outputs": [],
   "source": [
    "k = len(y_train) #length of training set\n",
    "s = len(y_test)  #length of testing set"
   ]
  },
  {
   "cell_type": "code",
   "execution_count": 6,
   "id": "ec26e02d",
   "metadata": {},
   "outputs": [],
   "source": [
    "# Extract FN feature frequencies from freq spectrum of each training sample\n",
    "X_trainFFT = np.fft.fft(X_train)       # shape (k,num_point)\n",
    "Feature_Frequencies = np.zeros((k,FN)) # shape (k, FN)\n",
    "for i in range(k):\n",
    "    Feature_Frequencies[i]=np.argsort(X_trainFFT[i])[::-1][:FN]"
   ]
  },
  {
   "cell_type": "code",
   "execution_count": null,
   "id": "1637a01c",
   "metadata": {},
   "outputs": [],
   "source": []
  },
  {
   "cell_type": "code",
   "execution_count": 7,
   "id": "9122b2b2",
   "metadata": {},
   "outputs": [],
   "source": [
    "# Classify feature frequencied depend on labels\n",
    "AF = {}\n",
    "Feature_Matrix = []\n",
    "for label in range(m):\n",
    "    AF[label]=np.empty((0,0))\n",
    "    for i in range(k):\n",
    "        if y_train[i] == label:\n",
    "            AF[label] = np.append(AF[label],Feature_Frequencies[i])\n",
    "    count = collections.Counter(AF[label])\n",
    "    sorted_AF_label = sorted(count.items(), key=lambda x: x[1], reverse=True)\n",
    "    Feature_Matrix.append([x[0] for x in sorted_AF_label[:n]])\n",
    "Feature_Matrix = np.vstack(Feature_Matrix)"
   ]
  },
  {
   "cell_type": "code",
   "execution_count": 8,
   "id": "0ae6ebdf",
   "metadata": {},
   "outputs": [
    {
     "data": {
      "text/plain": [
       "array([[ 0., 10., 50., 30., 54., 38., 22., 56.,  4., 46.],\n",
       "       [ 0., 34.,  4., 56., 17., 43., 26., 28., 23., 13.]])"
      ]
     },
     "execution_count": 8,
     "metadata": {},
     "output_type": "execute_result"
    }
   ],
   "source": [
    "Feature_Matrix"
   ]
  },
  {
   "cell_type": "code",
   "execution_count": null,
   "id": "df76e057",
   "metadata": {},
   "outputs": [],
   "source": []
  },
  {
   "cell_type": "markdown",
   "id": "ee49278a",
   "metadata": {},
   "source": [
    "## Test Stage: Calculate scoreboard of all test samples"
   ]
  },
  {
   "cell_type": "code",
   "execution_count": 9,
   "id": "c3aa88e2",
   "metadata": {},
   "outputs": [],
   "source": [
    "Scoreboard = []\n",
    "X_testFFT = np.fft.fft(X_test)\n",
    "Feature_Frequencies_test = np.zeros((s,FN)) # shape (k, FN)\n",
    "for j in range(s):\n",
    "    Feature_Frequencies_test[j]=np.argsort(X_testFFT[j])[::-1][:FN]\n",
    "    score = SR(Feature_Frequencies_test[j], Feature_Matrix)\n",
    "    Scoreboard.append(score)\n",
    "Scoreboard = np.array(Scoreboard)"
   ]
  },
  {
   "cell_type": "code",
   "execution_count": null,
   "id": "ad87cd5e",
   "metadata": {},
   "outputs": [],
   "source": []
  },
  {
   "cell_type": "markdown",
   "id": "0dc2f3e0",
   "metadata": {},
   "source": [
    "## Sumup"
   ]
  },
  {
   "cell_type": "code",
   "execution_count": 10,
   "id": "9419763a",
   "metadata": {},
   "outputs": [],
   "source": [
    "import numpy as np\n",
    "import collections\n",
    "\n",
    "FN = 10\n",
    "n = 10\n",
    "\n",
    "def FQ(X, fn):\n",
    "    X_FFT = np.fft.fft(X)\n",
    "    feature_freq = np.zeros((len(X),fn)) \n",
    "    for j in range(len(X)):\n",
    "        feature_freq[j]=np.argsort(X_FFT[j])[::-1][:fn]\n",
    "    return feature_freq\n",
    "\n",
    "def FM(fq, y):\n",
    "    AF = {}\n",
    "    feature_matrix = []\n",
    "    for label in range((max(y)+1).astype(int)):\n",
    "        AF[label]=np.empty((0,0))\n",
    "        for i in range(len(y)):\n",
    "            if y[i] == label:\n",
    "                AF[label] = np.append(AF[label],fq[i])\n",
    "        count = collections.Counter(AF[label])\n",
    "        sorted_AF_label = sorted(count.items(), key=lambda x: x[1], reverse=True)\n",
    "        feature_matrix.append([x[0] for x in sorted_AF_label[:n]])\n",
    "    return np.vstack(feature_matrix)\n",
    "\n",
    "def SR(A,B):\n",
    "    score = []\n",
    "    for h in range(len(B)):\n",
    "        scoreh = len(set(A[:10]).intersection(set(B[h])))\n",
    "        scoreh += len(set(np.concatenate((A[:6],A[:6]+1,A[:6]-1))).intersection(set(B[h])))\n",
    "        scoreh += 4*len(set(A[:3]).intersection(set(B[h][:3])))\n",
    "        score.append(scoreh)\n",
    "    return np.array(score)\n",
    "\n",
    "def SB(fq,fm):\n",
    "    Scoreboard = []\n",
    "    for j in range(len(fq)):\n",
    "        score = SR(fq[j], fm)\n",
    "        Scoreboard.append(score)\n",
    "    return np.array(Scoreboard)"
   ]
  },
  {
   "cell_type": "code",
   "execution_count": 11,
   "id": "3fb73adf",
   "metadata": {},
   "outputs": [],
   "source": [
    "Feature_Matrix = FM(FQ(X_train, FN), y_train)\n",
    "Scoreboard = SB(FQ(X_test, FN), Feature_Matrix)"
   ]
  },
  {
   "cell_type": "code",
   "execution_count": 12,
   "id": "a7481f9f",
   "metadata": {},
   "outputs": [
    {
     "data": {
      "text/plain": [
       "array([[ 8,  8],\n",
       "       [ 7, 11],\n",
       "       [11,  9],\n",
       "       [10,  9],\n",
       "       [ 9,  8],\n",
       "       [ 8,  8],\n",
       "       [ 9,  9],\n",
       "       [ 9, 12],\n",
       "       [ 9,  9],\n",
       "       [11,  9],\n",
       "       [ 6, 10],\n",
       "       [11, 12],\n",
       "       [ 6, 11],\n",
       "       [ 8, 11],\n",
       "       [ 9, 14],\n",
       "       [ 8, 10],\n",
       "       [10,  8],\n",
       "       [ 8,  9],\n",
       "       [11, 12],\n",
       "       [10,  9],\n",
       "       [ 7,  9],\n",
       "       [ 6,  9],\n",
       "       [10, 16],\n",
       "       [ 6, 16],\n",
       "       [16, 15],\n",
       "       [12,  9],\n",
       "       [12,  8],\n",
       "       [ 9,  9],\n",
       "       [12,  7],\n",
       "       [ 7, 11],\n",
       "       [11, 10],\n",
       "       [11,  9],\n",
       "       [ 7, 10],\n",
       "       [12,  9],\n",
       "       [10,  8],\n",
       "       [ 8, 12],\n",
       "       [12,  8],\n",
       "       [20, 12],\n",
       "       [ 9,  8],\n",
       "       [10,  7]])"
      ]
     },
     "execution_count": 12,
     "metadata": {},
     "output_type": "execute_result"
    }
   ],
   "source": [
    "Scoreboard"
   ]
  },
  {
   "cell_type": "code",
   "execution_count": null,
   "id": "916dd58a",
   "metadata": {},
   "outputs": [],
   "source": []
  },
  {
   "cell_type": "code",
   "execution_count": null,
   "id": "ec534de0",
   "metadata": {},
   "outputs": [],
   "source": []
  },
  {
   "cell_type": "code",
   "execution_count": null,
   "id": "cc00d63f",
   "metadata": {},
   "outputs": [],
   "source": []
  }
 ],
 "metadata": {
  "kernelspec": {
   "display_name": "fdfm",
   "language": "python",
   "name": "fdfm"
  },
  "language_info": {
   "codemirror_mode": {
    "name": "ipython",
    "version": 3
   },
   "file_extension": ".py",
   "mimetype": "text/x-python",
   "name": "python",
   "nbconvert_exporter": "python",
   "pygments_lexer": "ipython3",
   "version": "3.10.4"
  }
 },
 "nbformat": 4,
 "nbformat_minor": 5
}
